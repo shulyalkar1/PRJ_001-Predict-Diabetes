{
 "cells": [
  {
   "cell_type": "markdown",
   "metadata": {},
   "source": [
    " ## PRJ_001 Predict Diabetes v1.0 Baseline"
   ]
  },
  {
   "cell_type": "markdown",
   "metadata": {},
   "source": [
    "### 1.0 Define Problem \n",
    "#### Data Overview & Problem Statement  \n",
    "\n",
    "##### Dataset : medical records of patients assessed for diabetes\n",
    "    - Called Pima Indians Dataset by UCI ML Repository. \n",
    "    - Pima Indians : Native Americans from Arizona USA. \n",
    "    - prone to obesity and diabetes. \n",
    "    - The last col ‘class’ is the diagnosis : has diabetes (1) or not (0)\n",
    "    \n",
    "##### Input Features \n",
    "    - preg = Number of times pregnant\n",
    "    - plas = Blood Glucose : 2-hr-val 140 - 200  prone ; > 200 : diabetic\n",
    "    - pres = diastolic BP up till 60 yrs then down, \n",
    "    - skin = Triceps skin fold thickness (mm) : 2-Hour serum insulin (mu U/ml)\n",
    "    - mass = BMI (wt. kg/ht m^2); BMI above normal : risk of diabetes\n",
    "    - pedi = Diabetes pedigree function\n",
    "    - age =  Patient’s Age (years)\n",
    "\n",
    "##### Target variable\n",
    "    - class = Class variable (1: +ve, 0: -ve for diabetes) : binary (0/1)\n",
    "\n",
    "##### Objective: To predict whether a given new patient is likely to get diabetes in the next 5 years based on the measurements"
   ]
  },
  {
   "cell_type": "markdown",
   "metadata": {},
   "source": [
    "#### 1.1 Import Libraries"
   ]
  },
  {
   "cell_type": "code",
   "execution_count": 1,
   "metadata": {},
   "outputs": [],
   "source": [
    "import pandas as pd\n",
    "from sklearn.model_selection import cross_val_score\n",
    "from sklearn.model_selection import train_test_split \n",
    "from sklearn.linear_model import LogisticRegression\n",
    "import warnings\n",
    "warnings.filterwarnings(\"ignore\", category=FutureWarning)"
   ]
  },
  {
   "cell_type": "markdown",
   "metadata": {},
   "source": [
    "#### 1.2 Read input data"
   ]
  },
  {
   "cell_type": "code",
   "execution_count": 2,
   "metadata": {},
   "outputs": [],
   "source": [
    "data0=pd.read_csv('D:/ARVEE/DSc_Course/pima-indians-diabetes.data.csv',header=None)\n",
    "data0.columns = ['preg', 'plas', 'pres', 'skin', 'test', 'mass', 'pedi', 'age', 'class']"
   ]
  },
  {
   "cell_type": "markdown",
   "metadata": {},
   "source": [
    "###  2.0 Summarize Data "
   ]
  },
  {
   "cell_type": "markdown",
   "metadata": {},
   "source": [
    "#### 2.1 High level view of data"
   ]
  },
  {
   "cell_type": "code",
   "execution_count": 3,
   "metadata": {},
   "outputs": [
    {
     "name": "stdout",
     "output_type": "stream",
     "text": [
      "(768, 9)\n"
     ]
    }
   ],
   "source": [
    "# Number of rows and columns\n",
    "print(data0.shape)"
   ]
  },
  {
   "cell_type": "code",
   "execution_count": 4,
   "metadata": {},
   "outputs": [
    {
     "name": "stdout",
     "output_type": "stream",
     "text": [
      "    preg  plas  pres  skin  test  mass   pedi  age  class\n",
      "0      6   148    72    35     0  33.6  0.627   50      1\n",
      "1      1    85    66    29     0  26.6  0.351   31      0\n",
      "2      8   183    64     0     0  23.3  0.672   32      1\n",
      "3      1    89    66    23    94  28.1  0.167   21      0\n",
      "4      0   137    40    35   168  43.1  2.288   33      1\n",
      "5      5   116    74     0     0  25.6  0.201   30      0\n",
      "6      3    78    50    32    88  31.0  0.248   26      1\n",
      "7     10   115     0     0     0  35.3  0.134   29      0\n",
      "8      2   197    70    45   543  30.5  0.158   53      1\n",
      "9      8   125    96     0     0   0.0  0.232   54      1\n",
      "10     4   110    92     0     0  37.6  0.191   30      0\n",
      "11    10   168    74     0     0  38.0  0.537   34      1\n",
      "12    10   139    80     0     0  27.1  1.441   57      0\n",
      "13     1   189    60    23   846  30.1  0.398   59      1\n",
      "14     5   166    72    19   175  25.8  0.587   51      1\n",
      "15     7   100     0     0     0  30.0  0.484   32      1\n",
      "16     0   118    84    47   230  45.8  0.551   31      1\n",
      "17     7   107    74     0     0  29.6  0.254   31      1\n",
      "18     1   103    30    38    83  43.3  0.183   33      0\n",
      "19     1   115    70    30    96  34.6  0.529   32      1\n"
     ]
    }
   ],
   "source": [
    "#Observe a few rows\n",
    "print(data0.head(20))"
   ]
  },
  {
   "cell_type": "markdown",
   "metadata": {},
   "source": [
    "#### 2.2 Descriptive statistics "
   ]
  },
  {
   "cell_type": "code",
   "execution_count": 5,
   "metadata": {},
   "outputs": [
    {
     "name": "stdout",
     "output_type": "stream",
     "text": [
      "         preg    plas    pres    skin    test    mass    pedi     age   class\n",
      "count  768.00  768.00  768.00  768.00  768.00  768.00  768.00  768.00  768.00\n",
      "mean     3.85  120.89   69.11   20.54   79.80   31.99    0.47   33.24    0.35\n",
      "std      3.37   31.97   19.36   15.95  115.24    7.88    0.33   11.76    0.48\n",
      "min      0.00    0.00    0.00    0.00    0.00    0.00    0.08   21.00    0.00\n",
      "25%      1.00   99.00   62.00    0.00    0.00   27.30    0.24   24.00    0.00\n",
      "50%      3.00  117.00   72.00   23.00   30.50   32.00    0.37   29.00    0.00\n",
      "75%      6.00  140.25   80.00   32.00  127.25   36.60    0.63   41.00    1.00\n",
      "max     17.00  199.00  122.00   99.00  846.00   67.10    2.42   81.00    1.00\n"
     ]
    }
   ],
   "source": [
    "from pandas import set_option\n",
    "set_option('display.width', 100) \n",
    "set_option('precision', 2)\n",
    "#Statistical summary\n",
    "print(data0.describe())"
   ]
  },
  {
   "cell_type": "code",
   "execution_count": 6,
   "metadata": {},
   "outputs": [
    {
     "name": "stdout",
     "output_type": "stream",
     "text": [
      "class\n",
      "0    500\n",
      "1    268\n",
      "dtype: int64\n"
     ]
    }
   ],
   "source": [
    "#Class distribution\n",
    "print(data0.groupby('class').size())"
   ]
  },
  {
   "cell_type": "code",
   "execution_count": 7,
   "metadata": {},
   "outputs": [
    {
     "data": {
      "text/html": [
       "<div>\n",
       "<style scoped>\n",
       "    .dataframe tbody tr th:only-of-type {\n",
       "        vertical-align: middle;\n",
       "    }\n",
       "\n",
       "    .dataframe tbody tr th {\n",
       "        vertical-align: top;\n",
       "    }\n",
       "\n",
       "    .dataframe thead th {\n",
       "        text-align: right;\n",
       "    }\n",
       "</style>\n",
       "<table border=\"1\" class=\"dataframe\">\n",
       "  <thead>\n",
       "    <tr style=\"text-align: right;\">\n",
       "      <th></th>\n",
       "      <th>preg</th>\n",
       "      <th>plas</th>\n",
       "      <th>pres</th>\n",
       "      <th>skin</th>\n",
       "      <th>test</th>\n",
       "      <th>mass</th>\n",
       "      <th>pedi</th>\n",
       "      <th>age</th>\n",
       "      <th>class</th>\n",
       "    </tr>\n",
       "  </thead>\n",
       "  <tbody>\n",
       "    <tr>\n",
       "      <th>preg</th>\n",
       "      <td>1.000</td>\n",
       "      <td>0.129</td>\n",
       "      <td>0.141</td>\n",
       "      <td>-0.082</td>\n",
       "      <td>-0.074</td>\n",
       "      <td>0.018</td>\n",
       "      <td>-0.034</td>\n",
       "      <td>0.544</td>\n",
       "      <td>0.222</td>\n",
       "    </tr>\n",
       "    <tr>\n",
       "      <th>plas</th>\n",
       "      <td>0.129</td>\n",
       "      <td>1.000</td>\n",
       "      <td>0.153</td>\n",
       "      <td>0.057</td>\n",
       "      <td>0.331</td>\n",
       "      <td>0.221</td>\n",
       "      <td>0.137</td>\n",
       "      <td>0.264</td>\n",
       "      <td>0.467</td>\n",
       "    </tr>\n",
       "    <tr>\n",
       "      <th>pres</th>\n",
       "      <td>0.141</td>\n",
       "      <td>0.153</td>\n",
       "      <td>1.000</td>\n",
       "      <td>0.207</td>\n",
       "      <td>0.089</td>\n",
       "      <td>0.282</td>\n",
       "      <td>0.041</td>\n",
       "      <td>0.240</td>\n",
       "      <td>0.065</td>\n",
       "    </tr>\n",
       "    <tr>\n",
       "      <th>skin</th>\n",
       "      <td>-0.082</td>\n",
       "      <td>0.057</td>\n",
       "      <td>0.207</td>\n",
       "      <td>1.000</td>\n",
       "      <td>0.437</td>\n",
       "      <td>0.393</td>\n",
       "      <td>0.184</td>\n",
       "      <td>-0.114</td>\n",
       "      <td>0.075</td>\n",
       "    </tr>\n",
       "    <tr>\n",
       "      <th>test</th>\n",
       "      <td>-0.074</td>\n",
       "      <td>0.331</td>\n",
       "      <td>0.089</td>\n",
       "      <td>0.437</td>\n",
       "      <td>1.000</td>\n",
       "      <td>0.198</td>\n",
       "      <td>0.185</td>\n",
       "      <td>-0.042</td>\n",
       "      <td>0.131</td>\n",
       "    </tr>\n",
       "    <tr>\n",
       "      <th>mass</th>\n",
       "      <td>0.018</td>\n",
       "      <td>0.221</td>\n",
       "      <td>0.282</td>\n",
       "      <td>0.393</td>\n",
       "      <td>0.198</td>\n",
       "      <td>1.000</td>\n",
       "      <td>0.141</td>\n",
       "      <td>0.036</td>\n",
       "      <td>0.293</td>\n",
       "    </tr>\n",
       "    <tr>\n",
       "      <th>pedi</th>\n",
       "      <td>-0.034</td>\n",
       "      <td>0.137</td>\n",
       "      <td>0.041</td>\n",
       "      <td>0.184</td>\n",
       "      <td>0.185</td>\n",
       "      <td>0.141</td>\n",
       "      <td>1.000</td>\n",
       "      <td>0.034</td>\n",
       "      <td>0.174</td>\n",
       "    </tr>\n",
       "    <tr>\n",
       "      <th>age</th>\n",
       "      <td>0.544</td>\n",
       "      <td>0.264</td>\n",
       "      <td>0.240</td>\n",
       "      <td>-0.114</td>\n",
       "      <td>-0.042</td>\n",
       "      <td>0.036</td>\n",
       "      <td>0.034</td>\n",
       "      <td>1.000</td>\n",
       "      <td>0.238</td>\n",
       "    </tr>\n",
       "    <tr>\n",
       "      <th>class</th>\n",
       "      <td>0.222</td>\n",
       "      <td>0.467</td>\n",
       "      <td>0.065</td>\n",
       "      <td>0.075</td>\n",
       "      <td>0.131</td>\n",
       "      <td>0.293</td>\n",
       "      <td>0.174</td>\n",
       "      <td>0.238</td>\n",
       "      <td>1.000</td>\n",
       "    </tr>\n",
       "  </tbody>\n",
       "</table>\n",
       "</div>"
      ],
      "text/plain": [
       "        preg   plas   pres   skin   test   mass   pedi    age  class\n",
       "preg   1.000  0.129  0.141 -0.082 -0.074  0.018 -0.034  0.544  0.222\n",
       "plas   0.129  1.000  0.153  0.057  0.331  0.221  0.137  0.264  0.467\n",
       "pres   0.141  0.153  1.000  0.207  0.089  0.282  0.041  0.240  0.065\n",
       "skin  -0.082  0.057  0.207  1.000  0.437  0.393  0.184 -0.114  0.075\n",
       "test  -0.074  0.331  0.089  0.437  1.000  0.198  0.185 -0.042  0.131\n",
       "mass   0.018  0.221  0.282  0.393  0.198  1.000  0.141  0.036  0.293\n",
       "pedi  -0.034  0.137  0.041  0.184  0.185  0.141  1.000  0.034  0.174\n",
       "age    0.544  0.264  0.240 -0.114 -0.042  0.036  0.034  1.000  0.238\n",
       "class  0.222  0.467  0.065  0.075  0.131  0.293  0.174  0.238  1.000"
      ]
     },
     "execution_count": 7,
     "metadata": {},
     "output_type": "execute_result"
    }
   ],
   "source": [
    "# Pairwise Pearson correlations\n",
    "from pandas import set_option\n",
    "set_option('display.width', 100) \n",
    "set_option('precision', 3)\n",
    "data0.corr(method='pearson') "
   ]
  },
  {
   "cell_type": "markdown",
   "metadata": {},
   "source": [
    "#### 2.2 Data visualizations"
   ]
  },
  {
   "cell_type": "code",
   "execution_count": 8,
   "metadata": {},
   "outputs": [
    {
     "data": {
      "text/plain": [
       "<matplotlib.axes._subplots.AxesSubplot at 0x1fcfd5bdbe0>"
      ]
     },
     "execution_count": 8,
     "metadata": {},
     "output_type": "execute_result"
    }
   ],
   "source": [
    "data0['mass'].hist()"
   ]
  },
  {
   "cell_type": "code",
   "execution_count": 9,
   "metadata": {},
   "outputs": [
    {
     "data": {
      "text/plain": [
       "<matplotlib.axes._subplots.AxesSubplot at 0x1fcfdbbffd0>"
      ]
     },
     "execution_count": 9,
     "metadata": {},
     "output_type": "execute_result"
    },
    {
     "data": {
      "image/png": "[encoded data removed]",
      "text/plain": [
       "<Figure size 576x360 with 1 Axes>"
      ]
     },
     "metadata": {
      "needs_background": "light"
     },
     "output_type": "display_data"
    }
   ],
   "source": [
    "import matplotlib.pyplot as plt\n",
    "import seaborn as sns\n",
    "plt.figure(figsize=(8,5))\n",
    "plt.tight_layout()\n",
    "sns.distplot(data0['mass'])"
   ]
  },
  {
   "cell_type": "code",
   "execution_count": 10,
   "metadata": {},
   "outputs": [
    {
     "data": {
      "image/png": "[encoded data removed]",
      "text/plain": [
       "<Figure size 432x288 with 9 Axes>"
      ]
     },
     "metadata": {
      "needs_background": "light"
     },
     "output_type": "display_data"
    }
   ],
   "source": [
    "# Univariate Density Plots \n",
    "data0.plot(kind='density', subplots=True, layout=(3,3), sharex=False) \n",
    "plt.show()"
   ]
  },
  {
   "cell_type": "markdown",
   "metadata": {},
   "source": [
    "###  3.0 Prepare Data \n"
   ]
  },
  {
   "cell_type": "markdown",
   "metadata": {},
   "source": [
    "#### 3.1 Data Cleaning \n",
    "- None applicable for this dataset"
   ]
  },
  {
   "cell_type": "markdown",
   "metadata": {},
   "source": [
    "#### 3.2 Feature Selection \n"
   ]
  },
  {
   "cell_type": "markdown",
   "metadata": {},
   "source": [
    "##### Separate features and label"
   ]
  },
  {
   "cell_type": "code",
   "execution_count": 11,
   "metadata": {},
   "outputs": [],
   "source": [
    "array = data0.values \n",
    "X = array[:,0:8] \n",
    "Y = array[:,8]"
   ]
  },
  {
   "cell_type": "markdown",
   "metadata": {},
   "source": [
    "##### Split data into train & test"
   ]
  },
  {
   "cell_type": "code",
   "execution_count": 38,
   "metadata": {},
   "outputs": [],
   "source": [
    "test_size=0.20       #80/20 breakup\n",
    "seed=131             #seed \n",
    "X_train,X_test,Y_train,Y_test=train_test_split(X,Y,test_size=test_size,random_state=seed)"
   ]
  },
  {
   "cell_type": "markdown",
   "metadata": {},
   "source": [
    "#### 3.3 Data Transforms\n"
   ]
  },
  {
   "cell_type": "code",
   "execution_count": 39,
   "metadata": {},
   "outputs": [
    {
     "name": "stdout",
     "output_type": "stream",
     "text": [
      "\n",
      " standardized input: \n",
      " [[ 0.058 -0.68   0.358 -0.332 -0.244 -1.091 -0.726 -1.046]\n",
      " [-0.841 -0.895 -0.357  0.305 -0.332 -1.554  0.044 -0.709]\n",
      " [ 2.754  0.242 -3.525  0.624 -0.694  0.999  0.303  0.893]\n",
      " [ 0.957  0.795  0.358 -1.289 -0.694  0.936 -0.625  0.809]\n",
      " [ 0.358  0.211  0.562 -1.289 -0.694  0.336 -0.961  0.977]]\n",
      "(614, 8)\n"
     ]
    }
   ],
   "source": [
    "from sklearn.preprocessing import StandardScaler\n",
    "from numpy import set_printoptions\n",
    "scaler = StandardScaler().fit(X_train) \n",
    "std_trnX = scaler.transform(X_train)\n",
    "scaler1 = StandardScaler().fit(X_test) \n",
    "std_tstX = scaler1.transform(X_test)\n",
    "# summarize transformed data\n",
    "set_printoptions(precision=3) \n",
    "print('\\n standardized input: \\n %s' % std_trnX[0:5,:])\n",
    "print(std_trnX.shape)"
   ]
  },
  {
   "cell_type": "markdown",
   "metadata": {},
   "source": [
    "### 4. Evaluate Algorithms "
   ]
  },
  {
   "cell_type": "markdown",
   "metadata": {},
   "source": [
    "#### 4.1 Split-out validation dataset"
   ]
  },
  {
   "cell_type": "markdown",
   "metadata": {},
   "source": [
    "##### 4.1.1. Cross validate training data : Basic"
   ]
  },
  {
   "cell_type": "code",
   "execution_count": 40,
   "metadata": {},
   "outputs": [],
   "source": [
    "from sklearn.model_selection import KFold \n",
    "from sklearn.model_selection import cross_val_score "
   ]
  },
  {
   "cell_type": "code",
   "execution_count": 34,
   "metadata": {},
   "outputs": [
    {
     "name": "stdout",
     "output_type": "stream",
     "text": [
      "Accuracy: 76.539% (5.205%)\n"
     ]
    }
   ],
   "source": [
    "# define model\n",
    "model = LogisticRegression()\n",
    "# define evaluation procedure\n",
    "num_folds = 10 \n",
    "kfold = KFold(n_splits=num_folds, random_state=seed)\n",
    "# evaluate model\n",
    "results = cross_val_score(model, std_trnX, Y_train, cv=kfold)\n",
    "print(\"Accuracy: %.3f%% (%.3f%%)\" % (results.mean()*100.0, results.std()*100.0)) #mean accuracy "
   ]
  },
  {
   "cell_type": "code",
   "execution_count": 35,
   "metadata": {},
   "outputs": [
    {
     "name": "stdout",
     "output_type": "stream",
     "text": [
      "Accuracy: 76.211% (5.368%)\n"
     ]
    }
   ],
   "source": [
    "from sklearn.discriminant_analysis import LinearDiscriminantAnalysis\n",
    "# define model\n",
    "model = LinearDiscriminantAnalysis()\n",
    "# define evaluation procedure\n",
    "num_folds = 10 \n",
    "kfold = KFold(n_splits=num_folds, random_state=seed)\n",
    "# evaluate model\n",
    "results = cross_val_score(model, std_trnX, Y_train, cv=kfold)\n",
    "print(\"Accuracy: %.3f%% (%.3f%%)\" % (results.mean()*100.0, results.std()*100.0)) #mean accuracy "
   ]
  },
  {
   "cell_type": "code",
   "execution_count": 41,
   "metadata": {},
   "outputs": [
    {
     "name": "stdout",
     "output_type": "stream",
     "text": [
      "Accuracy: 76.534% (5.086%)\n"
     ]
    }
   ],
   "source": [
    "from sklearn.svm import SVC\n",
    "# define model\n",
    "model = SVC()\n",
    "# define evaluation procedure\n",
    "num_folds = 10 \n",
    "kfold = KFold(n_splits=num_folds, random_state=seed)\n",
    "# evaluate model\n",
    "results = cross_val_score(model, std_trnX, Y_train, cv=kfold)\n",
    "print(\"Accuracy: %.3f%% (%.3f%%)\" % (results.mean()*100.0, results.std()*100.0)) #mean accuracy "
   ]
  },
  {
   "cell_type": "markdown",
   "metadata": {},
   "source": [
    "#### 4.2 Test options and evaluation metric "
   ]
  },
  {
   "cell_type": "markdown",
   "metadata": {},
   "source": [
    "#### 4.3 Spot Check Algorithms"
   ]
  },
  {
   "cell_type": "markdown",
   "metadata": {},
   "source": [
    "### Machine Learning"
   ]
  },
  {
   "cell_type": "code",
   "execution_count": 25,
   "metadata": {},
   "outputs": [
    {
     "name": "stdout",
     "output_type": "stream",
     "text": [
      "77.27272727272727\n",
      "[[85  9]\n",
      " [26 34]]\n"
     ]
    }
   ],
   "source": [
    "from sklearn.metrics import confusion_matrix\n",
    "model = LogisticRegression()\n",
    "model.fit(std_trnX, Y_train)\n",
    "result = model.score(std_tstX, Y_test)\n",
    "print((result)*100.0)\n",
    "predicted = model.predict(std_tstX) \n",
    "matrix = confusion_matrix(Y_test, predicted) \n",
    "print(matrix)"
   ]
  },
  {
   "cell_type": "code",
   "execution_count": 37,
   "metadata": {},
   "outputs": [
    {
     "name": "stdout",
     "output_type": "stream",
     "text": [
      "77.92207792207793\n",
      "[[91 14]\n",
      " [20 29]]\n"
     ]
    }
   ],
   "source": [
    "from sklearn.metrics import confusion_matrix\n",
    "model = LinearDiscriminantAnalysis()\n",
    "model.fit(std_trnX, Y_train)\n",
    "result = model.score(std_tstX, Y_test)\n",
    "print((result)*100.0)\n",
    "predicted = model.predict(std_tstX) \n",
    "matrix = confusion_matrix(Y_test, predicted) \n",
    "print(matrix)"
   ]
  },
  {
   "cell_type": "code",
   "execution_count": 42,
   "metadata": {},
   "outputs": [
    {
     "name": "stdout",
     "output_type": "stream",
     "text": [
      "75.97402597402598\n",
      "[[93 15]\n",
      " [22 24]]\n"
     ]
    }
   ],
   "source": [
    "from sklearn.metrics import confusion_matrix\n",
    "model = SVC()\n",
    "model.fit(std_trnX, Y_train)\n",
    "result = model.score(std_tstX, Y_test)\n",
    "print((result)*100.0)\n",
    "predicted = model.predict(std_tstX) \n",
    "matrix = confusion_matrix(Y_test, predicted) \n",
    "print(matrix)"
   ]
  },
  {
   "cell_type": "markdown",
   "metadata": {},
   "source": [
    "#### 4.4 Compare Algorithms"
   ]
  },
  {
   "cell_type": "markdown",
   "metadata": {},
   "source": [
    "### 5.0 Improve Accuracy "
   ]
  },
  {
   "cell_type": "markdown",
   "metadata": {},
   "source": [
    "#### 5.1 Algorithm Tuning"
   ]
  },
  {
   "cell_type": "markdown",
   "metadata": {},
   "source": [
    "#### 5.2 Ensembles"
   ]
  },
  {
   "cell_type": "markdown",
   "metadata": {},
   "source": [
    "###  6.0 Finalize Model "
   ]
  },
  {
   "cell_type": "markdown",
   "metadata": {},
   "source": [
    "#### 6.1 Predictions on validation dataset "
   ]
  },
  {
   "cell_type": "markdown",
   "metadata": {},
   "source": [
    "#### 6.2 Create standalone model on entire training dataset "
   ]
  },
  {
   "cell_type": "markdown",
   "metadata": {},
   "source": [
    "#### 6.3 Save model for later use"
   ]
  },
  {
   "cell_type": "markdown",
   "metadata": {},
   "source": [
    "### Cross validate training data : Improvement - 1: Weightage for better balance"
   ]
  },
  {
   "cell_type": "code",
   "execution_count": null,
   "metadata": {},
   "outputs": [],
   "source": [
    "# define model\n",
    "weights = {0:0.35, 1:0.65}\n",
    "model = LogisticRegression(class_weight=weights)\n",
    "num_folds = 10 \n",
    "kfold = KFold(n_splits=num_folds, random_state=seed)\n",
    "# evaluate model\n",
    "results = cross_val_score(model, std_trnX, Y_train, cv=kfold)\n",
    "print(\"Accuracy: %.3f%% (%.3f%%)\" % (results.mean()*100.0, results.std()*100.0)) #mean accuracy "
   ]
  },
  {
   "cell_type": "markdown",
   "metadata": {},
   "source": [
    "### Cross validate training data : Improvement - 2"
   ]
  },
  {
   "cell_type": "code",
   "execution_count": null,
   "metadata": {},
   "outputs": [],
   "source": [
    "from numpy import mean\n",
    "from sklearn.model_selection import RepeatedStratifiedKFold\n",
    "# define model\n",
    "weights = {0:0.35, 1:0.65}\n",
    "model = LogisticRegression(class_weight=weights)\n",
    "# define evaluation procedure\n",
    "cv = RepeatedStratifiedKFold(n_splits=10, n_repeats=3, random_state=seed)\n",
    "# evaluate model\n",
    "scores = cross_val_score(model, std_trnX, Y_train, scoring='roc_auc', cv=cv, n_jobs=-1)\n",
    "# summarize performance\n",
    "print('Mean ROC AUC: %.3f' % mean(scores))"
   ]
  },
  {
   "cell_type": "code",
   "execution_count": null,
   "metadata": {},
   "outputs": [],
   "source": [
    "print(scores.mean()*100.0, scores.std()*100.0)"
   ]
  },
  {
   "cell_type": "markdown",
   "metadata": {},
   "source": [
    "    - dump instruction to save the model as \n",
    "    - pickled model.pkl in the local working directory\n",
    "    - 'D:/ARVEE/DSc_Course/pickled_model.pkl'"
   ]
  },
  {
   "cell_type": "code",
   "execution_count": null,
   "metadata": {},
   "outputs": [],
   "source": [
    "filename = 'D:/ARVEE/DSc_Course/pickled_model.pkl'\n",
    "dump(model, open(filename, 'wb'))"
   ]
  },
  {
   "cell_type": "markdown",
   "metadata": {},
   "source": [
    "    - some time later...\n",
    "    - load the model from disk"
   ]
  },
  {
   "cell_type": "code",
   "execution_count": null,
   "metadata": {},
   "outputs": [],
   "source": [
    "loaded_model = load(open(filename, 'rb')) \n",
    "result = loaded_model.score(X_test, Y_test)\n",
    "print(result)"
   ]
  },
  {
   "cell_type": "markdown",
   "metadata": {},
   "source": [
    "    - Loading the saved model and evaluating allows for an estimate of model accuracy on unseen data"
   ]
  }
 ],
 "metadata": {
  "kernelspec": {
   "display_name": "Python 3",
   "language": "python",
   "name": "python3"
  },
  "language_info": {
   "codemirror_mode": {
    "name": "ipython",
    "version": 3
   },
   "file_extension": ".py",
   "mimetype": "text/x-python",
   "name": "python",
   "nbconvert_exporter": "python",
   "pygments_lexer": "ipython3",
   "version": "3.7.3"
  }
 },
 "nbformat": 4,
 "nbformat_minor": 2
}
